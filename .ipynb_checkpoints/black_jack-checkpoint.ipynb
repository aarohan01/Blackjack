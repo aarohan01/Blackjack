{
 "cells": [
  {
   "cell_type": "code",
   "execution_count": 48,
   "metadata": {},
   "outputs": [],
   "source": [
    "'''\n",
    "Blackjack game.\n",
    "'''\n",
    "import random"
   ]
  },
  {
   "cell_type": "code",
   "execution_count": 49,
   "metadata": {},
   "outputs": [],
   "source": [
    "ranks = ('1', '2', '3', '4', '5', '6', '7', '8', '9', '10', 'J', 'Q', 'K')\n",
    "suits = ('S', 'C', 'D', 'H')\n",
    "values = {'1':1, '2':2, '3':3, '4':4, '5':5, '6':6, '7':7, '8':8, '9':9, '10':10, 'J':10, 'Q':10, 'K':10}    "
   ]
  },
  {
   "cell_type": "code",
   "execution_count": 50,
   "metadata": {},
   "outputs": [],
   "source": [
    "class Player():\n",
    "    \n",
    "    def __init__(self, name, bank, bet):\n",
    "        self.name = name\n",
    "        self.bank = bank\n",
    "        self.bet = bet "
   ]
  },
  {
   "cell_type": "code",
   "execution_count": 53,
   "metadata": {},
   "outputs": [],
   "source": [
    "class Card():\n",
    "    \n",
    "    ''' This class is to create a card instance using suit and rank '''\n",
    "    \n",
    "    def __init__(self, suit, rank):\n",
    "        self.suit = suit \n",
    "        self.rank = rank"
   ]
  },
  {
   "cell_type": "code",
   "execution_count": 54,
   "metadata": {},
   "outputs": [],
   "source": [
    "class Deck():\n",
    "    \n",
    "    def __init__(self) :\n",
    "        self.deck = list()\n",
    "        for suit in suits:\n",
    "            for rank in ranks:\n",
    "                self.deck.append(Card(suit, rank))\n",
    "        random.shuffle(self.deck)\n",
    "        "
   ]
  },
  {
   "cell_type": "code",
   "execution_count": 58,
   "metadata": {},
   "outputs": [
    {
     "name": "stdout",
     "output_type": "stream",
     "text": [
      "[<__main__.Card object at 0x0000019387400488>, <__main__.Card object at 0x00000193873EFC48>, <__main__.Card object at 0x00000193873FE208>, <__main__.Card object at 0x00000193873EF648>, <__main__.Card object at 0x00000193874003C8>, <__main__.Card object at 0x00000193874009C8>, <__main__.Card object at 0x00000193873E5588>, <__main__.Card object at 0x00000193873FA288>, <__main__.Card object at 0x00000193873E5888>, <__main__.Card object at 0x0000019387400848>, <__main__.Card object at 0x00000193873E5C48>, <__main__.Card object at 0x00000193873FAFC8>, <__main__.Card object at 0x00000193873EF208>, <__main__.Card object at 0x00000193873EFD08>, <__main__.Card object at 0x000001938733CAC8>, <__main__.Card object at 0x000001938733C608>, <__main__.Card object at 0x00000193873FAEC8>, <__main__.Card object at 0x0000019387400148>, <__main__.Card object at 0x00000193873FA708>, <__main__.Card object at 0x00000193873FEBC8>, <__main__.Card object at 0x0000019387400408>, <__main__.Card object at 0x00000193870C6148>, <__main__.Card object at 0x00000193873FA448>, <__main__.Card object at 0x00000193873E5C08>, <__main__.Card object at 0x00000193873E5FC8>, <__main__.Card object at 0x00000193874000C8>, <__main__.Card object at 0x00000193873EF988>, <__main__.Card object at 0x000001938733CE48>, <__main__.Card object at 0x00000193873EFCC8>, <__main__.Card object at 0x0000019387400948>, <__main__.Card object at 0x00000193873FE808>, <__main__.Card object at 0x0000019387400688>, <__main__.Card object at 0x000001938733C588>, <__main__.Card object at 0x00000193873E5288>, <__main__.Card object at 0x0000019387400D88>, <__main__.Card object at 0x00000193873E55C8>, <__main__.Card object at 0x0000019387400548>, <__main__.Card object at 0x00000193873FEB88>, <__main__.Card object at 0x00000193873FA388>, <__main__.Card object at 0x0000019387400388>, <__main__.Card object at 0x00000193873EF308>, <__main__.Card object at 0x00000193873EF7C8>, <__main__.Card object at 0x00000193874007C8>, <__main__.Card object at 0x0000019387400808>, <__main__.Card object at 0x00000193870C67C8>, <__main__.Card object at 0x00000193873FA6C8>, <__main__.Card object at 0x0000019387400508>, <__main__.Card object at 0x000001938733CDC8>, <__main__.Card object at 0x0000019387400A08>, <__main__.Card object at 0x0000019387400B88>, <__main__.Card object at 0x0000019387400088>, <__main__.Card object at 0x00000193873FAB08>]\n",
      "52\n",
      "[('S', '7'), ('H', '9'), ('S', '3'), ('H', '6'), ('C', '5'), ('S', 'J'), ('D', 'J'), ('C', 'Q'), ('H', '1'), ('C', '8'), ('D', 'K'), ('C', 'J'), ('H', 'J'), ('H', '10'), ('D', '6'), ('D', '8'), ('C', '10'), ('S', 'Q'), ('D', '2'), ('S', '2'), ('C', '7'), ('H', '5'), ('D', '1'), ('H', '2'), ('D', 'Q'), ('C', '9'), ('H', '8'), ('D', '5'), ('H', 'Q'), ('C', '6'), ('S', '1'), ('S', 'K'), ('D', '9'), ('H', '3'), ('S', '8'), ('D', '10'), ('C', '2'), ('S', '4'), ('D', '4'), ('C', '4'), ('H', 'K'), ('H', '7'), ('S', '6'), ('C', '3'), ('H', '4'), ('C', 'K'), ('S', '9'), ('D', '7'), ('S', '5'), ('S', '10'), ('C', '1'), ('D', '3')]\n"
     ]
    }
   ],
   "source": [
    "d1 = Deck()\n",
    "print(d1.deck)\n",
    "print(len(d1.deck))\n",
    "#print([(x.suit,x.rank) for x in d1.deck ])"
   ]
  },
  {
   "cell_type": "code",
   "execution_count": 31,
   "metadata": {},
   "outputs": [
    {
     "name": "stdout",
     "output_type": "stream",
     "text": [
      "{'S': ['1', '2', '3', '4', '5', '6', '7', '8', '9', 'J', 'Q', 'K'], 'C': ['1', '2', '3', '4', '5', '6', '7', '8', '9', 'J', 'Q', 'K'], 'D': ['1', '2', '3', '4', '5', '6', '7', '8', '9', 'J', 'Q', 'K'], 'H': ['1', '2', '3', '4', '5', '6', '7', '8', '9', 'J', 'Q', 'K']}\n"
     ]
    }
   ],
   "source": [
    "\n",
    "#card_dict = { x:y for x in suits for y in cards } \n",
    "card_list = ['#']\n",
    "for x in suits:\n",
    "    for y in cards:\n",
    "        if y != '#':\n",
    "            card_list.append((x,y)) \n",
    "\n",
    "print([(x,y) for x in suits for y in cards if y != '#' ])            \n",
    "#print(card_list)\n",
    "#card_dict['S'][1] \n",
    "print(len(card_list))\n",
    "card_obj = ['#']\n",
    "#for suit,card in card_dict.items():"
   ]
  },
  {
   "cell_type": "code",
   "execution_count": 10,
   "metadata": {},
   "outputs": [
    {
     "ename": "NameError",
     "evalue": "name 'card_dict' is not defined",
     "output_type": "error",
     "traceback": [
      "\u001b[1;31m---------------------------------------------------------------------------\u001b[0m",
      "\u001b[1;31mNameError\u001b[0m                                 Traceback (most recent call last)",
      "\u001b[1;32m<ipython-input-10-c9d2b1bec994>\u001b[0m in \u001b[0;36m<module>\u001b[1;34m\u001b[0m\n\u001b[1;32m----> 1\u001b[1;33m \u001b[0mcard_dict\u001b[0m\u001b[1;33m\u001b[0m\u001b[1;33m\u001b[0m\u001b[0m\n\u001b[0m",
      "\u001b[1;31mNameError\u001b[0m: name 'card_dict' is not defined"
     ]
    }
   ],
   "source": [
    "\n"
   ]
  },
  {
   "cell_type": "code",
   "execution_count": null,
   "metadata": {},
   "outputs": [],
   "source": []
  }
 ],
 "metadata": {
  "kernelspec": {
   "display_name": "Python 3",
   "language": "python",
   "name": "python3"
  },
  "language_info": {
   "codemirror_mode": {
    "name": "ipython",
    "version": 3
   },
   "file_extension": ".py",
   "mimetype": "text/x-python",
   "name": "python",
   "nbconvert_exporter": "python",
   "pygments_lexer": "ipython3",
   "version": "3.7.4"
  }
 },
 "nbformat": 4,
 "nbformat_minor": 2
}
